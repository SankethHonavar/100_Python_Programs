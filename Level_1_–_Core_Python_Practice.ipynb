{
  "nbformat": 4,
  "nbformat_minor": 0,
  "metadata": {
    "colab": {
      "provenance": [],
      "authorship_tag": "ABX9TyOKaNB1d+xENyJqJTpCLOkR",
      "include_colab_link": true
    },
    "kernelspec": {
      "name": "python3",
      "display_name": "Python 3"
    },
    "language_info": {
      "name": "python"
    }
  },
  "cells": [
    {
      "cell_type": "markdown",
      "metadata": {
        "id": "view-in-github",
        "colab_type": "text"
      },
      "source": [
        "<a href=\"https://colab.research.google.com/github/SankethHonavar/100_Python_Programs/blob/main/Level_1_%E2%80%93_Core_Python_Practice.ipynb\" target=\"_parent\"><img src=\"https://colab.research.google.com/assets/colab-badge.svg\" alt=\"Open In Colab\"/></a>"
      ]
    },
    {
      "cell_type": "markdown",
      "source": [
        "**Variables & Data Types**"
      ],
      "metadata": {
        "id": "9_eSnIuFRYqK"
      }
    },
    {
      "cell_type": "code",
      "execution_count": null,
      "metadata": {
        "colab": {
          "base_uri": "https://localhost:8080/"
        },
        "id": "qhwTlu8QOgF-",
        "outputId": "3f500894-926e-426f-d8f6-75c4612c8bb7"
      },
      "outputs": [
        {
          "output_type": "stream",
          "name": "stdout",
          "text": [
            "Enter the first number: 12\n",
            "Enter the second number: 15\n",
            "15 12\n"
          ]
        }
      ],
      "source": [
        "num1=input(\"Enter the first number: \")\n",
        "num2=input(\"Enter the second number: \")\n",
        "temp=num1\n",
        "num1=num2\n",
        "num2=temp\n",
        "print(num1,num2)"
      ]
    },
    {
      "cell_type": "code",
      "source": [
        "num=int(input(\"Enter a number\"))\n",
        "if num%2==0:\n",
        "  print(\"Number is Even\")\n",
        "else:\n",
        "  print(\"Number is Odd\")"
      ],
      "metadata": {
        "colab": {
          "base_uri": "https://localhost:8080/"
        },
        "id": "9Dcwcr91PEIn",
        "outputId": "a25b44e7-f299-41b7-f749-219a734f11e0"
      },
      "execution_count": null,
      "outputs": [
        {
          "output_type": "stream",
          "name": "stdout",
          "text": [
            "Enter a number5\n",
            "Number is Odd\n"
          ]
        }
      ]
    },
    {
      "cell_type": "code",
      "source": [
        "radius=float(input(\"Enter the radius of the circle: \"))\n",
        "area=3.14*radius*radius\n",
        "print(\"Area of a circle is \", area, \"Sq. units\")"
      ],
      "metadata": {
        "colab": {
          "base_uri": "https://localhost:8080/"
        },
        "id": "44sTDa3DPcqd",
        "outputId": "57acb2d2-4c9d-4086-c104-a59efead47c7"
      },
      "execution_count": null,
      "outputs": [
        {
          "output_type": "stream",
          "name": "stdout",
          "text": [
            "Enter the radius of the circle: 3.5\n",
            "Area of a circle is  38.465 Sq. units\n"
          ]
        }
      ]
    },
    {
      "cell_type": "code",
      "source": [
        "celsius=float(input(\"Enter the Celsius: \"))\n",
        "farenheit=(celsius*9/5)+32\n",
        "print(\"Farenheit: \", farenheit)"
      ],
      "metadata": {
        "colab": {
          "base_uri": "https://localhost:8080/"
        },
        "id": "8mkVfkJeQBCN",
        "outputId": "85167d75-d0a7-44f5-8e1d-88cb13b658aa"
      },
      "execution_count": null,
      "outputs": [
        {
          "output_type": "stream",
          "name": "stdout",
          "text": [
            "Enter the Celsius: 37.5\n",
            "Farenheit:  99.5\n"
          ]
        }
      ]
    },
    {
      "cell_type": "code",
      "source": [
        "n1=float(input(\"Enter the first number: \"))\n",
        "n2=float(input(\"Enter the second number: \"))\n",
        "if n1>n2:\n",
        "  print(\"The larger one is \",n1)\n",
        "else:\n",
        "  print(\"The larger one is \", n2)"
      ],
      "metadata": {
        "colab": {
          "base_uri": "https://localhost:8080/"
        },
        "id": "rxI8LxIWQsD8",
        "outputId": "faa8312b-966c-4972-9438-9ab51c4826be"
      },
      "execution_count": null,
      "outputs": [
        {
          "output_type": "stream",
          "name": "stdout",
          "text": [
            "Enter the first number: 17\n",
            "Enter the second number: 25\n",
            "The larger one is  25.0\n"
          ]
        }
      ]
    },
    {
      "cell_type": "markdown",
      "source": [
        "**Loops & Conditionals**"
      ],
      "metadata": {
        "id": "axcj60KnRnln"
      }
    },
    {
      "cell_type": "code",
      "source": [
        "i=1\n",
        "while i<=50:\n",
        "  print(i)\n",
        "  i+=1"
      ],
      "metadata": {
        "colab": {
          "base_uri": "https://localhost:8080/"
        },
        "id": "fLDdh4ahRStr",
        "outputId": "76ddcd84-157a-47bf-b8b5-3cd5d5e19b84"
      },
      "execution_count": null,
      "outputs": [
        {
          "output_type": "stream",
          "name": "stdout",
          "text": [
            "1\n",
            "2\n",
            "3\n",
            "4\n",
            "5\n",
            "6\n",
            "7\n",
            "8\n",
            "9\n",
            "10\n",
            "11\n",
            "12\n",
            "13\n",
            "14\n",
            "15\n",
            "16\n",
            "17\n",
            "18\n",
            "19\n",
            "20\n",
            "21\n",
            "22\n",
            "23\n",
            "24\n",
            "25\n",
            "26\n",
            "27\n",
            "28\n",
            "29\n",
            "30\n",
            "31\n",
            "32\n",
            "33\n",
            "34\n",
            "35\n",
            "36\n",
            "37\n",
            "38\n",
            "39\n",
            "40\n",
            "41\n",
            "42\n",
            "43\n",
            "44\n",
            "45\n",
            "46\n",
            "47\n",
            "48\n",
            "49\n",
            "50\n"
          ]
        }
      ]
    },
    {
      "cell_type": "code",
      "source": [
        "for i in range(2,101,2):\n",
        "  print(i)"
      ],
      "metadata": {
        "colab": {
          "base_uri": "https://localhost:8080/"
        },
        "id": "c9N1YE9ASFKg",
        "outputId": "0f52cb9b-9fe9-4f81-e7d8-f16f93eb8bc0"
      },
      "execution_count": null,
      "outputs": [
        {
          "output_type": "stream",
          "name": "stdout",
          "text": [
            "2\n",
            "4\n",
            "6\n",
            "8\n",
            "10\n",
            "12\n",
            "14\n",
            "16\n",
            "18\n",
            "20\n",
            "22\n",
            "24\n",
            "26\n",
            "28\n",
            "30\n",
            "32\n",
            "34\n",
            "36\n",
            "38\n",
            "40\n",
            "42\n",
            "44\n",
            "46\n",
            "48\n",
            "50\n",
            "52\n",
            "54\n",
            "56\n",
            "58\n",
            "60\n",
            "62\n",
            "64\n",
            "66\n",
            "68\n",
            "70\n",
            "72\n",
            "74\n",
            "76\n",
            "78\n",
            "80\n",
            "82\n",
            "84\n",
            "86\n",
            "88\n",
            "90\n",
            "92\n",
            "94\n",
            "96\n",
            "98\n",
            "100\n"
          ]
        }
      ]
    },
    {
      "cell_type": "code",
      "source": [
        "for i in range(1,101):\n",
        "  if i%2==0:\n",
        "    print(i)"
      ],
      "metadata": {
        "colab": {
          "base_uri": "https://localhost:8080/"
        },
        "id": "2NEprlUkSxJ1",
        "outputId": "c610ba79-0025-49b0-ad78-ef626891a01a"
      },
      "execution_count": null,
      "outputs": [
        {
          "output_type": "stream",
          "name": "stdout",
          "text": [
            "2\n",
            "4\n",
            "6\n",
            "8\n",
            "10\n",
            "12\n",
            "14\n",
            "16\n",
            "18\n",
            "20\n",
            "22\n",
            "24\n",
            "26\n",
            "28\n",
            "30\n",
            "32\n",
            "34\n",
            "36\n",
            "38\n",
            "40\n",
            "42\n",
            "44\n",
            "46\n",
            "48\n",
            "50\n",
            "52\n",
            "54\n",
            "56\n",
            "58\n",
            "60\n",
            "62\n",
            "64\n",
            "66\n",
            "68\n",
            "70\n",
            "72\n",
            "74\n",
            "76\n",
            "78\n",
            "80\n",
            "82\n",
            "84\n",
            "86\n",
            "88\n",
            "90\n",
            "92\n",
            "94\n",
            "96\n",
            "98\n",
            "100\n"
          ]
        }
      ]
    },
    {
      "cell_type": "code",
      "source": [
        "n=int(input(\"Enter a number for Multiplication Table: \"))\n",
        "for i in range(1,11):\n",
        "  print(f\"{n}*{i}={n*i}\")"
      ],
      "metadata": {
        "colab": {
          "base_uri": "https://localhost:8080/"
        },
        "id": "oMI49uVSTG_j",
        "outputId": "23ef7497-8783-46eb-b4dd-5175a0bae06c"
      },
      "execution_count": null,
      "outputs": [
        {
          "output_type": "stream",
          "name": "stdout",
          "text": [
            "Enter a number for Multiplication Table: 5\n",
            "5*1=5\n",
            "5*2=10\n",
            "5*3=15\n",
            "5*4=20\n",
            "5*5=25\n",
            "5*6=30\n",
            "5*7=35\n",
            "5*8=40\n",
            "5*9=45\n",
            "5*10=50\n"
          ]
        }
      ]
    },
    {
      "cell_type": "code",
      "source": [
        "num=input(\"Enter a number: \")\n",
        "print(len(num))"
      ],
      "metadata": {
        "colab": {
          "base_uri": "https://localhost:8080/"
        },
        "id": "-R3rcnaOUY1y",
        "outputId": "d4aa838d-4dc9-4ce2-91ab-7c421d2140ea"
      },
      "execution_count": null,
      "outputs": [
        {
          "output_type": "stream",
          "name": "stdout",
          "text": [
            "Enter a number: 3256\n",
            "4\n"
          ]
        }
      ]
    },
    {
      "cell_type": "code",
      "source": [
        "10/4"
      ],
      "metadata": {
        "colab": {
          "base_uri": "https://localhost:8080/"
        },
        "id": "nY8LBw5xV_XP",
        "outputId": "79af7b04-1178-4e83-ba50-8f0323215bab"
      },
      "execution_count": null,
      "outputs": [
        {
          "output_type": "execute_result",
          "data": {
            "text/plain": [
              "2.5"
            ]
          },
          "metadata": {},
          "execution_count": 33
        }
      ]
    },
    {
      "cell_type": "code",
      "source": [
        "num=int(input(\"Enter the number: \"))\n",
        "count=0\n",
        "\n",
        "if num==0:\n",
        "  count=1\n",
        "else:\n",
        "  while num!=0:\n",
        "    count+=1\n",
        "    num=num//10\n",
        "print(\"Number of digits: \", count)"
      ],
      "metadata": {
        "colab": {
          "base_uri": "https://localhost:8080/"
        },
        "id": "hdGztjqvYrG_",
        "outputId": "14f82339-a342-4ca6-f47c-005b5f238cab"
      },
      "execution_count": null,
      "outputs": [
        {
          "output_type": "stream",
          "name": "stdout",
          "text": [
            "Enter the number: 10\n",
            "Number of digits:  2\n"
          ]
        }
      ]
    },
    {
      "cell_type": "code",
      "source": [
        "num=int(input(\"Enter a number: \"))\n",
        "reverse=0\n",
        "\n",
        "while num!=0:\n",
        "  digit=num%10\n",
        "  reverse=reverse*10+digit\n",
        "  num=num//10\n",
        "print(\"Reversed number:\",reverse)"
      ],
      "metadata": {
        "id": "eRghNPIXYsVd"
      },
      "execution_count": null,
      "outputs": []
    },
    {
      "cell_type": "code",
      "source": [
        "num=int(input(\"Enter a number: \"))\n",
        "reverse=0\n",
        "\n",
        "while num!=0:\n",
        "  digit=num%10\n",
        "  reverse=reverse*10+digit\n",
        "  num=num//10\n",
        "print(\"Reversed number:\",reverse)"
      ],
      "metadata": {
        "id": "Y-5WU_i2fXlC"
      },
      "execution_count": null,
      "outputs": []
    },
    {
      "cell_type": "code",
      "source": [
        "def palindrome(s):\n",
        "  if string.lower()==string[::-1].lower():\n",
        "    print(\"The string is Palindrome\")\n",
        "  else:\n",
        "    print(\"The string is not a Palindrome\")\n",
        "string=input(\"Enter a string: \")\n",
        "palindrome(string)"
      ],
      "metadata": {
        "id": "L9ZzKJH9ld42",
        "colab": {
          "base_uri": "https://localhost:8080/"
        },
        "outputId": "d045e6a5-36f7-4927-c01e-20b51b176518"
      },
      "execution_count": null,
      "outputs": [
        {
          "output_type": "stream",
          "name": "stdout",
          "text": [
            "Enter a string: Mam\n",
            "The string is Palindrome\n"
          ]
        }
      ]
    },
    {
      "cell_type": "code",
      "source": [
        "def count_vc(s):\n",
        "  vowels='aeiou'\n",
        "  count_c=0\n",
        "  count_v=0\n",
        "  for char in s.lower():\n",
        "    if char.isalpha():\n",
        "      if char in vowels:\n",
        "        count_v+=1\n",
        "      else:\n",
        "        count_c+=1\n",
        "  return count_c, count_v\n",
        "\n",
        "string=input(\"Enter the string: \")\n",
        "vowels_count, consonants_count = count_vc(string)\n",
        "print(\"The number of vowels: \", vowels_count, \"\\nThe number of consonents: \", consonants_count)\n"
      ],
      "metadata": {
        "id": "NILqeIwzWSwz",
        "colab": {
          "base_uri": "https://localhost:8080/"
        },
        "outputId": "2a7a033b-0b6a-498f-e188-0aea27ece65a"
      },
      "execution_count": null,
      "outputs": [
        {
          "output_type": "stream",
          "name": "stdout",
          "text": [
            "Enter the string: maam\n",
            "The number of vowels:  2 \n",
            "The number of consonents:  2\n"
          ]
        }
      ]
    },
    {
      "cell_type": "code",
      "source": [
        "string=input(\"Enter a string: \")\n",
        "rev=string[::-1]\n",
        "print(\"The reversed form: \", rev)"
      ],
      "metadata": {
        "id": "Laougg2OboYj",
        "colab": {
          "base_uri": "https://localhost:8080/"
        },
        "outputId": "f8658a0f-a7f8-4f5c-8674-b5bae345cc3e"
      },
      "execution_count": null,
      "outputs": [
        {
          "output_type": "stream",
          "name": "stdout",
          "text": [
            "Enter a string: mama\n",
            "The reversed form:  amam\n"
          ]
        }
      ]
    },
    {
      "cell_type": "code",
      "source": [
        "string=input(\"Enter a string: \")\n",
        "rev=''\n",
        "for char in string:\n",
        "  rev=char+rev\n",
        "print(\"The reversed form: \", rev)"
      ],
      "metadata": {
        "colab": {
          "base_uri": "https://localhost:8080/"
        },
        "id": "xjCN-_nB7Oiv",
        "outputId": "da768c87-a71a-462b-a550-3528c39dea39"
      },
      "execution_count": null,
      "outputs": [
        {
          "output_type": "stream",
          "name": "stdout",
          "text": [
            "Enter a string: mama\n",
            "The reversed form:  amam\n"
          ]
        }
      ]
    },
    {
      "cell_type": "code",
      "source": [
        "string1=input(\"Enter the first string: \")\n",
        "string2=input(\"Enter the second string: \")\n",
        "if sorted(string1.lower())==sorted(string2.lower()):\n",
        "  print(\"The strings are Anagrams\")\n",
        "else:\n",
        "  print(\"The strings are not an Anagrams\")"
      ],
      "metadata": {
        "colab": {
          "base_uri": "https://localhost:8080/"
        },
        "id": "fcJ_Opqs8Uay",
        "outputId": "8b077d98-29ef-4509-8817-8678542bd01e"
      },
      "execution_count": null,
      "outputs": [
        {
          "output_type": "stream",
          "name": "stdout",
          "text": [
            "Enter the first string: listen\n",
            "Enter the second string: Silent\n",
            "The strings are Anagrams\n"
          ]
        }
      ]
    },
    {
      "cell_type": "code",
      "source": [
        "ord('A')"
      ],
      "metadata": {
        "colab": {
          "base_uri": "https://localhost:8080/"
        },
        "id": "xs--DLAv9mZg",
        "outputId": "d3f2caba-b652-4b41-db21-23587efb5fe2"
      },
      "execution_count": null,
      "outputs": [
        {
          "output_type": "execute_result",
          "data": {
            "text/plain": [
              "65"
            ]
          },
          "metadata": {},
          "execution_count": 10
        }
      ]
    },
    {
      "cell_type": "code",
      "source": [
        "ord('a')"
      ],
      "metadata": {
        "colab": {
          "base_uri": "https://localhost:8080/"
        },
        "id": "7zcCVbLJ_SsC",
        "outputId": "5cc1f8b9-de41-49e6-b476-c99d8005dbe4"
      },
      "execution_count": null,
      "outputs": [
        {
          "output_type": "execute_result",
          "data": {
            "text/plain": [
              "97"
            ]
          },
          "metadata": {},
          "execution_count": 11
        }
      ]
    },
    {
      "cell_type": "code",
      "source": [
        "string=input(\"Enter a string: \")\n",
        "uppercase=''\n",
        "for char in string:\n",
        "  if 'a'<=char<='z':\n",
        "    uppercase+=chr(ord(char)-32)\n",
        "  else:\n",
        "    uppercase+=char\n",
        "print(\"Uppercase string: \",uppercase)"
      ],
      "metadata": {
        "colab": {
          "base_uri": "https://localhost:8080/"
        },
        "id": "j2tGbQ3D_fZV",
        "outputId": "64d794b1-5a4b-48a1-e84b-e90f5ee65dc0"
      },
      "execution_count": null,
      "outputs": [
        {
          "output_type": "stream",
          "name": "stdout",
          "text": [
            "Enter a string: Hello World\n",
            "Uppercase string:  HELLO WORLD\n"
          ]
        }
      ]
    },
    {
      "cell_type": "markdown",
      "source": [
        "**Lists**"
      ],
      "metadata": {
        "id": "yU8r3nwuSHdU"
      }
    },
    {
      "cell_type": "code",
      "source": [
        "def max(list):\n",
        "  temp=list[0]\n",
        "  for item in list:\n",
        "    if item>temp:\n",
        "      temp=item\n",
        "  return temp\n",
        "\n",
        "list=list(map(int,input(\"Enter the elements: \").split()))\n",
        "max(list)\n"
      ],
      "metadata": {
        "colab": {
          "base_uri": "https://localhost:8080/"
        },
        "id": "-97MG5AkBGyr",
        "outputId": "6fa03a04-8cf2-4ae3-d1b6-453421ce70e7"
      },
      "execution_count": null,
      "outputs": [
        {
          "name": "stdout",
          "output_type": "stream",
          "text": [
            "Enter the elements: 1 2 3\n"
          ]
        },
        {
          "output_type": "execute_result",
          "data": {
            "text/plain": [
              "3"
            ]
          },
          "metadata": {},
          "execution_count": 5
        }
      ]
    },
    {
      "cell_type": "code",
      "source": [],
      "metadata": {
        "id": "KAKSoGEQSq3Z"
      },
      "execution_count": null,
      "outputs": []
    }
  ]
}