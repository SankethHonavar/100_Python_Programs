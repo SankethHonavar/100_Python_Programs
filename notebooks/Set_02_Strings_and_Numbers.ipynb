{
 "cells": [
  {
   "cell_type": "markdown",
   "id": "0699b140",
   "metadata": {},
   "source": [
    "Set 2: Strings_and_Numbers\n",
    "\n",
    "Author: Sanketh Honavar\n",
    "\n",
    "Date: 2025-07-14"
   ]
  },
  {
   "cell_type": "markdown",
   "id": "5f188b30",
   "metadata": {},
   "source": [
    " 1. Check for Palindrome:"
   ]
  },
  {
   "cell_type": "code",
   "execution_count": 1,
   "id": "3b4ffcfd",
   "metadata": {},
   "outputs": [
    {
     "name": "stdout",
     "output_type": "stream",
     "text": [
      "Palindrome\n"
     ]
    }
   ],
   "source": [
    "def is_palindrome(s):\n",
    "    return s==s[::-1]\n",
    "\n",
    "string=input(\"Enter a string: \")\n",
    "if is_palindrome(string):\n",
    "    print(\"Palindrome\")\n",
    "else:\n",
    "    print(\"Not a Palindrome\")"
   ]
  },
  {
   "cell_type": "markdown",
   "id": "53860dbd",
   "metadata": {},
   "source": [
    " 2. Find the Largest Among Three Numbers:"
   ]
  },
  {
   "cell_type": "code",
   "execution_count": 2,
   "id": "b0f56eee",
   "metadata": {},
   "outputs": [
    {
     "ename": "ValueError",
     "evalue": "could not convert string to float: ''",
     "output_type": "error",
     "traceback": [
      "\u001b[31m---------------------------------------------------------------------------\u001b[39m",
      "\u001b[31mValueError\u001b[39m                                Traceback (most recent call last)",
      "\u001b[36mCell\u001b[39m\u001b[36m \u001b[39m\u001b[32mIn[2]\u001b[39m\u001b[32m, line 1\u001b[39m\n\u001b[32m----> \u001b[39m\u001b[32m1\u001b[39m a = \u001b[38;5;28;43mfloat\u001b[39;49m\u001b[43m(\u001b[49m\u001b[38;5;28;43minput\u001b[39;49m\u001b[43m(\u001b[49m\u001b[33;43m\"\u001b[39;49m\u001b[33;43mEnter the first number: \u001b[39;49m\u001b[33;43m\"\u001b[39;49m\u001b[43m)\u001b[49m\u001b[43m)\u001b[49m\n\u001b[32m      2\u001b[39m b = \u001b[38;5;28mfloat\u001b[39m(\u001b[38;5;28minput\u001b[39m(\u001b[33m\"\u001b[39m\u001b[33mEnter the second number: \u001b[39m\u001b[33m\"\u001b[39m))\n\u001b[32m      3\u001b[39m c = \u001b[38;5;28mfloat\u001b[39m(\u001b[38;5;28minput\u001b[39m(\u001b[33m\"\u001b[39m\u001b[33mEnter the third number: \u001b[39m\u001b[33m\"\u001b[39m))\n",
      "\u001b[31mValueError\u001b[39m: could not convert string to float: ''"
     ]
    }
   ],
   "source": [
    "a = float(input(\"Enter the first number: \"))\n",
    "b = float(input(\"Enter the second number: \"))\n",
    "c = float(input(\"Enter the third number: \"))\n",
    "max_num=max(a,b,c)\n",
    "print(\"Largest number:\", max_num)"
   ]
  },
  {
   "cell_type": "markdown",
   "id": "0f035326",
   "metadata": {},
   "source": [
    " 3. Print Multiplication Table:"
   ]
  },
  {
   "cell_type": "code",
   "execution_count": null,
   "id": "4fcee7d3",
   "metadata": {},
   "outputs": [],
   "source": [
    "num = int(input(\"Enter a number: \"))\n",
    "for i in range(1,11):\n",
    "    print(f\"{num}x{i}={num*i}\")"
   ]
  },
  {
   "cell_type": "markdown",
   "id": "2e36499e",
   "metadata": {},
   "source": [
    " 4. Convert Celsius to Fahrenheit:"
   ]
  },
  {
   "cell_type": "code",
   "execution_count": null,
   "id": "6d6aed88",
   "metadata": {},
   "outputs": [],
   "source": [
    "celsius= float(input(\"Enter temperature in Celsius: \"))\n",
    "fahrenheit = (celsius*9/5)+32\n",
    "print(\"Temperature in Fahrenheit: \", fahrenheit)"
   ]
  },
  {
   "cell_type": "markdown",
   "id": "20cc9255",
   "metadata": {},
   "source": [
    " 5. Simple String Operations:"
   ]
  },
  {
   "cell_type": "code",
   "execution_count": null,
   "id": "063e8828",
   "metadata": {},
   "outputs": [],
   "source": [
    "string=\"Hello, World!\"\n",
    "print(\"Length of the string:\", len(string))\n",
    "print(\"Uppercase: \", string.upper())\n",
    "print(\"Lowercase: \", string.lower())\n",
    "print(\"Reversed string: \", string[::-1])"
   ]
  },
  {
   "cell_type": "markdown",
   "id": "c0a38f1a",
   "metadata": {},
   "source": [
    " 6. Bubble Sort Algorithm:"
   ]
  },
  {
   "cell_type": "code",
   "execution_count": null,
   "id": "465f51d2",
   "metadata": {},
   "outputs": [],
   "source": [
    "def bubble_sort(arr):\n",
    "    n=len(arr)\n",
    "    for i in range(n-1):\n",
    "        for j in range(0,n-i-1):\n",
    "            if arr[j]>arr[j+1]:\n",
    "                arr[j], arr[j+1]=arr[j+1], arr[j]\n",
    "\n",
    "arr = [64,34,25,12,22,11,90]\n",
    "bubble_sort(arr)\n",
    "print(\"Sorted array: \", arr)"
   ]
  },
  {
   "cell_type": "markdown",
   "id": "c41794ed",
   "metadata": {},
   "source": [
    "7. Check Leap Year:"
   ]
  },
  {
   "cell_type": "code",
   "execution_count": null,
   "id": "8760d368",
   "metadata": {},
   "outputs": [],
   "source": [
    "def is_leap_year(year):\n",
    "    if (year%4==0 and year%100!=0) or (year%400==0):\n",
    "        return True\n",
    "    return False\n",
    "\n",
    "year= int(input(\"Enter a year: \"))\n",
    "if is_leap_year(year):\n",
    "    print(\"Leap Year\")\n",
    "else:\n",
    "    print(\"Not a Leap Year\")"
   ]
  },
  {
   "cell_type": "markdown",
   "id": "b4a59a80",
   "metadata": {},
   "source": [
    " 8. Count Vowels in a String:"
   ]
  },
  {
   "cell_type": "code",
   "execution_count": null,
   "id": "9d6329fe",
   "metadata": {},
   "outputs": [],
   "source": [
    "def count_vowels(s):\n",
    "    vowels=\"aeiouAEIOU\"\n",
    "    count=0\n",
    "    for char in s:\n",
    "        if char in vowels:\n",
    "            count+=1\n",
    "    return count\n",
    "string = input(\"Enter a string: \")\n",
    "print(\"Number of vowels: \", count_vowels(string))"
   ]
  },
  {
   "cell_type": "markdown",
   "id": "0a0c2d3c",
   "metadata": {},
   "source": [
    " 9. Find the LCM of Two Numbers:"
   ]
  },
  {
   "cell_type": "markdown",
   "id": "3be3bc61",
   "metadata": {},
   "source": []
  }
 ],
 "metadata": {
  "kernelspec": {
   "display_name": ".venv",
   "language": "python",
   "name": "python3"
  },
  "language_info": {
   "codemirror_mode": {
    "name": "ipython",
    "version": 3
   },
   "file_extension": ".py",
   "mimetype": "text/x-python",
   "name": "python",
   "nbconvert_exporter": "python",
   "pygments_lexer": "ipython3",
   "version": "3.13.5"
  }
 },
 "nbformat": 4,
 "nbformat_minor": 5
}
