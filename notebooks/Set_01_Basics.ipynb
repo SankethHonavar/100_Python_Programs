{
 "cells": [
  {
   "cell_type": "markdown",
   "id": "53ed037d",
   "metadata": {},
   "source": [
    "Set 1: Python Basics\n",
    "\n",
    "Author: Sanketh Honavar\n",
    "\n",
    "Date: 2025-07-13"
   ]
  },
  {
   "cell_type": "markdown",
   "id": "bef84618",
   "metadata": {},
   "source": [
    " 1. Hello World Program:"
   ]
  },
  {
   "cell_type": "code",
   "execution_count": 1,
   "id": "86c2c7a6",
   "metadata": {},
   "outputs": [
    {
     "name": "stdout",
     "output_type": "stream",
     "text": [
      "Hello, World!\n"
     ]
    }
   ],
   "source": [
    "print(\"Hello, World!\")"
   ]
  },
  {
   "cell_type": "markdown",
   "id": "7c6ba111",
   "metadata": {},
   "source": [
    " 2. Simple Calculator:"
   ]
  },
  {
   "cell_type": "code",
   "execution_count": 3,
   "id": "e868bee5",
   "metadata": {},
   "outputs": [
    {
     "ename": "ValueError",
     "evalue": "invalid literal for int() with base 10: ''",
     "output_type": "error",
     "traceback": [
      "\u001b[31m---------------------------------------------------------------------------\u001b[39m",
      "\u001b[31mValueError\u001b[39m                                Traceback (most recent call last)",
      "\u001b[36mCell\u001b[39m\u001b[36m \u001b[39m\u001b[32mIn[3]\u001b[39m\u001b[32m, line 1\u001b[39m\n\u001b[32m----> \u001b[39m\u001b[32m1\u001b[39m a=\u001b[38;5;28;43mint\u001b[39;49m\u001b[43m(\u001b[49m\u001b[38;5;28;43minput\u001b[39;49m\u001b[43m(\u001b[49m\u001b[33;43m\"\u001b[39;49m\u001b[33;43mEnter the first number:\u001b[39;49m\u001b[33;43m\"\u001b[39;49m\u001b[43m)\u001b[49m\u001b[43m)\u001b[49m\n\u001b[32m      2\u001b[39m b=\u001b[38;5;28mint\u001b[39m(\u001b[38;5;28minput\u001b[39m(\u001b[33m\"\u001b[39m\u001b[33mEnter the first number:\u001b[39m\u001b[33m\"\u001b[39m))\n\u001b[32m      3\u001b[39m \u001b[38;5;28mprint\u001b[39m(\u001b[33m\"\u001b[39m\u001b[33mSum:\u001b[39m\u001b[33m\"\u001b[39m, a+b)\n",
      "\u001b[31mValueError\u001b[39m: invalid literal for int() with base 10: ''"
     ]
    }
   ],
   "source": [
    "a=int(input(\"Enter the first number:\"))\n",
    "b=int(input(\"Enter the first number:\"))\n",
    "print(\"Sum:\", a+b)\n",
    "print(\"Difference\", a-b)\n",
    "print(\"Multiplictaion\", a*b)\n",
    "print(\"Division\", a/b)"
   ]
  },
  {
   "cell_type": "markdown",
   "id": "5f398489",
   "metadata": {},
   "source": [
    "3. Factorial of a Number:"
   ]
  },
  {
   "cell_type": "code",
   "execution_count": null,
   "id": "2e1af830",
   "metadata": {},
   "outputs": [],
   "source": [
    "def factorial(n):\n",
    "    if n==0:\n",
    "        return 1\n",
    "    else:\n",
    "        return n * factorial(n-1)\n",
    "num=int(input(\"Enter a number:\"))\n",
    "print(\"Factorial:\", factorial(num))"
   ]
  },
  {
   "cell_type": "markdown",
   "id": "b18f6f3c",
   "metadata": {},
   "source": [
    "4. Fibonacci Sequence:"
   ]
  },
  {
   "cell_type": "code",
   "execution_count": null,
   "id": "8116dd15",
   "metadata": {},
   "outputs": [],
   "source": [
    "def fibonacci(n):\n",
    "    if n<=1:\n",
    "        return n\n",
    "    else:\n",
    "        return fibonacci(n-1)+fibonacci(n-2)\n",
    "terms=int(input(\"Enter a number of terms:\"))\n",
    "print(\"Fibonacci sequence:\")\n",
    "for i in range(terms):\n",
    "    print(fibonacci(i))"
   ]
  },
  {
   "cell_type": "markdown",
   "id": "740ba967",
   "metadata": {},
   "source": [
    " 5. Check for Prime Number:"
   ]
  },
  {
   "cell_type": "code",
   "execution_count": null,
   "id": "17491fd6",
   "metadata": {},
   "outputs": [],
   "source": [
    "def is_prime(n):\n",
    "    if n<=1:\n",
    "        return False\n",
    "    for i in range(2, int(n**0.5)+1):\n",
    "        if n%1==0:\n",
    "            return False\n",
    "    return True\n",
    "num=int(input(\"Enter a number:\"))\n",
    "if is_prime(num):\n",
    "    print(\"Prime\")\n",
    "else:\n",
    "    print(\"Not prime\")"
   ]
  },
  {
   "cell_type": "markdown",
   "id": "e82b7811",
   "metadata": {},
   "source": [
    " 6. Simple Interest Calculator:"
   ]
  },
  {
   "cell_type": "code",
   "execution_count": null,
   "id": "21acc5a5",
   "metadata": {},
   "outputs": [],
   "source": [
    "p=float(input(\"Enter the principal amount: \"))\n",
    "r=float(input(\"Enter the rate of interest: \"))\n",
    "t=float(input(\"Enter the time period: \"))\n",
    "interest = (p*r*t)/100\n",
    "print(\"Simple Interest: \", interest)"
   ]
  },
  {
   "cell_type": "markdown",
   "id": "535d1916",
   "metadata": {},
   "source": [
    "7. Check for Even or Odd:"
   ]
  },
  {
   "cell_type": "code",
   "execution_count": null,
   "id": "893ca4a5",
   "metadata": {},
   "outputs": [],
   "source": [
    "num = int(input(\"Enter a number: \"))\n",
    "if num%2==0:\n",
    "    print(\"Even\")\n",
    "else:\n",
    "    print(\"Odd\")"
   ]
  },
  {
   "cell_type": "markdown",
   "id": "eb018671",
   "metadata": {},
   "source": [
    "8. Area of a Circle:"
   ]
  },
  {
   "cell_type": "code",
   "execution_count": null,
   "id": "83fbb31d",
   "metadata": {},
   "outputs": [],
   "source": [
    "import math\n",
    "radius = float(input(\"Enter the radius of the circle: \"))\n",
    "area = math.pi*radius*radius\n",
    "print(\"Area: \",area)"
   ]
  },
  {
   "cell_type": "markdown",
   "id": "cbc35c67",
   "metadata": {},
   "source": [
    "9. List Comprehension:"
   ]
  },
  {
   "cell_type": "code",
   "execution_count": null,
   "id": "2a93d662",
   "metadata": {},
   "outputs": [],
   "source": [
    "squares = [i ** 2 for i in range(10)]\n",
    "print(\"Squares: \",squares)"
   ]
  },
  {
   "cell_type": "markdown",
   "id": "229bf441",
   "metadata": {},
   "source": [
    "10. Simple File Handling:"
   ]
  },
  {
   "cell_type": "code",
   "execution_count": null,
   "id": "298bf02b",
   "metadata": {},
   "outputs": [],
   "source": [
    "#Writing to a file\n",
    "with open(\"output.txt\",\"w\") as file:\n",
    "    file.write(\"Hello, this is a sample test.\")\n",
    "\n",
    "#Reading from a file\n",
    "with.open(\"output.txt\",\"r\") as file:\n",
    "    data = file.read()\n",
    "    print(\"Data from file: \", data)"
   ]
  },
  {
   "cell_type": "markdown",
   "id": "240e15a2",
   "metadata": {},
   "source": []
  }
 ],
 "metadata": {
  "kernelspec": {
   "display_name": ".venv",
   "language": "python",
   "name": "python3"
  },
  "language_info": {
   "codemirror_mode": {
    "name": "ipython",
    "version": 3
   },
   "file_extension": ".py",
   "mimetype": "text/x-python",
   "name": "python",
   "nbconvert_exporter": "python",
   "pygments_lexer": "ipython3",
   "version": "3.13.5"
  }
 },
 "nbformat": 4,
 "nbformat_minor": 5
}
